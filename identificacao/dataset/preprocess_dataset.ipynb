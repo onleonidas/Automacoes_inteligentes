{
  "nbformat": 4,
  "nbformat_minor": 0,
  "metadata": {
    "colab": {
      "provenance": []
    },
    "kernelspec": {
      "name": "python3",
      "display_name": "Python 3"
    },
    "language_info": {
      "name": "python"
    }
  },
  "cells": [
    {
      "cell_type": "markdown",
      "source": [
        "Imports"
      ],
      "metadata": {
        "id": "M9lM9SsJKbUZ"
      }
    },
    {
      "cell_type": "code",
      "execution_count": 1,
      "metadata": {
        "id": "-8-DspOmBf0G"
      },
      "outputs": [],
      "source": [
        "import pandas as pd\n",
        "\n",
        "from sklearn.model_selection import train_test_split"
      ]
    },
    {
      "cell_type": "markdown",
      "source": [
        "# Helper Functions"
      ],
      "metadata": {
        "id": "P6grTGN0Kdj0"
      }
    },
    {
      "cell_type": "code",
      "source": [],
      "metadata": {
        "id": "tSIKWyguKiHU"
      },
      "execution_count": null,
      "outputs": []
    },
    {
      "cell_type": "markdown",
      "source": [
        "# Lendo base"
      ],
      "metadata": {
        "id": "HcKgCe9mKU3t"
      }
    },
    {
      "cell_type": "code",
      "source": [
        "df_raw_nosso = pd.read_csv('/content/dataset_idenficacao.csv')"
      ],
      "metadata": {
        "id": "yyTP8A1HKQ6v"
      },
      "execution_count": 46,
      "outputs": []
    },
    {
      "cell_type": "code",
      "source": [
        "df_raw_felipe = pd.read_csv('/content/log (1).txt')"
      ],
      "metadata": {
        "id": "2CGYBBA-RNgi"
      },
      "execution_count": 47,
      "outputs": []
    },
    {
      "cell_type": "markdown",
      "source": [
        "# Preprocessing\n"
      ],
      "metadata": {
        "id": "02mxagM7KY23"
      }
    },
    {
      "cell_type": "code",
      "source": [
        "columns = ['expected_ul', 'expected_ur', 'pwm_l', 'pwm_r', 'real_ul', 'real_ur']\n",
        "df_0_felipe = df_raw_felipe.copy()\n",
        "df_0_felipe.columns = columns\n",
        "\n",
        "for col in df_0_felipe.columns:\n",
        "  df_0_felipe[col] = df_0_felipe[col].str.extract(r'(\\d+\\.\\d+)')\n",
        "  df_0_felipe[col] = df_0_felipe[col].astype('float')\n",
        "\n",
        "df_0_felipe = df_0_felipe[['expected_ul', 'expected_ur', 'real_ul', 'real_ur']]"
      ],
      "metadata": {
        "id": "ee0Om1gmuDd7"
      },
      "execution_count": 48,
      "outputs": []
    },
    {
      "cell_type": "code",
      "source": [
        "df_0_nosso = df_raw_nosso.copy()\n",
        "df_0_nosso = df_0_nosso[df_0_nosso['v_left']!='v_left']\n",
        "rename_dict = {\n",
        "    'v_left': 'expected_ul',\n",
        "    'v_right': 'expected_ur',\n",
        "    'v_left_real': 'real_ul',\n",
        "    'v_right_real': 'real_ur'\n",
        "}\n",
        "\n",
        "df_0_nosso = df_0_nosso.rename(columns=rename_dict)\n"
      ],
      "metadata": {
        "id": "dpUSB539LNfq"
      },
      "execution_count": 49,
      "outputs": []
    },
    {
      "cell_type": "code",
      "source": [
        "df_0_felipe = df_0_felipe.drop_duplicates(subset=['expected_ul', 'expected_ur', 'real_ul', 'real_ur'])\n",
        "df_0_nosso = df_0_nosso.drop_duplicates(subset=['expected_ul', 'expected_ur', 'real_ul', 'real_ur'])"
      ],
      "metadata": {
        "id": "yfY8x40pOdr3"
      },
      "execution_count": 50,
      "outputs": []
    },
    {
      "cell_type": "code",
      "source": [
        "df_0_concat = pd.concat([df_0_felipe, df_0_nosso])\n",
        "df_0_concat.drop_duplicates(subset=['expected_ul', 'expected_ur', 'real_ul', 'real_ur'])\n",
        "df_0_concat = df_0_concat.reset_index()\n",
        "df_0_concat = df_0_concat[['expected_ul', 'expected_ur', 'real_ul', 'real_ur']]"
      ],
      "metadata": {
        "id": "_VLGoMhszOCS"
      },
      "execution_count": 56,
      "outputs": []
    },
    {
      "cell_type": "markdown",
      "source": [
        "# Split\n"
      ],
      "metadata": {
        "id": "5r9edP2cPPsW"
      }
    },
    {
      "cell_type": "code",
      "source": [
        "df_train, df_test = train_test_split(df_0_concat, test_size=0.2, random_state=2024)"
      ],
      "metadata": {
        "id": "-rkqNSxZO-fy"
      },
      "execution_count": 58,
      "outputs": []
    },
    {
      "cell_type": "markdown",
      "source": [
        "# Saving"
      ],
      "metadata": {
        "id": "ebqQyu5RP-Lk"
      }
    },
    {
      "cell_type": "code",
      "source": [
        "df_train.to_csv('/content/to_train.csv')\n",
        "df_test.to_csv('/content/to_test.csv')"
      ],
      "metadata": {
        "id": "As1ewQbSP77I"
      },
      "execution_count": 63,
      "outputs": []
    }
  ]
}